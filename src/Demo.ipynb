{
  "nbformat": 4,
  "nbformat_minor": 0,
  "metadata": {
    "colab": {
      "name": "Demo.ipynb",
      "provenance": [],
      "collapsed_sections": []
    },
    "kernelspec": {
      "name": "python3",
      "display_name": "Python 3"
    },
    "language_info": {
      "name": "python"
    },
    "accelerator": "GPU"
  },
  "cells": [
    {
      "cell_type": "markdown",
      "metadata": {
        "id": "sEH5Y691GhUr"
      },
      "source": [
        "# Learning Implicit Fields for Generative Shape Modelling "
      ]
    },
    {
      "cell_type": "code",
      "metadata": {
        "colab": {
          "base_uri": "https://localhost:8080/"
        },
        "id": "cYfSNpyNdrxl",
        "outputId": "400ff833-dc9b-4fee-e592-8903b198cc0b"
      },
      "source": [
        "from google.colab import drive\n",
        "drive.mount('/content/drive', force_remount=True)"
      ],
      "execution_count": 1,
      "outputs": [
        {
          "output_type": "stream",
          "text": [
            "Mounted at /content/drive\n"
          ],
          "name": "stdout"
        }
      ]
    },
    {
      "cell_type": "code",
      "metadata": {
        "colab": {
          "base_uri": "https://localhost:8080/"
        },
        "id": "beuu2yzIfYs5",
        "outputId": "d6dfd083-d761-4565-eaa0-771a1193c48a"
      },
      "source": [
        "!pip install --upgrade PyMCubes"
      ],
      "execution_count": 2,
      "outputs": [
        {
          "output_type": "stream",
          "text": [
            "Requirement already up-to-date: PyMCubes in /usr/local/lib/python3.7/dist-packages (0.1.2)\n"
          ],
          "name": "stdout"
        }
      ]
    },
    {
      "cell_type": "code",
      "metadata": {
        "colab": {
          "base_uri": "https://localhost:8080/"
        },
        "id": "nL4_RDwBd10G",
        "outputId": "ac993e70-3c62-4c01-800d-699ce32095b6"
      },
      "source": [
        " !zip -FF /content/drive/MyDrive/CV_Project.zip -O CV_Project_copy.zip\n",
        " !unzip CV_Project_copy.zip"
      ],
      "execution_count": 3,
      "outputs": [
        {
          "output_type": "stream",
          "text": [
            "Fix archive (-FF) - salvage what can\n",
            " Found end record (EOCDR) - says expect single disk archive\n",
            "Scanning for entries...\n",
            " copying: CV_Project/checkpoint/  (0 bytes)\n",
            " copying: CV_Project/checkpoint/all_vox256_img_ae_64/  (0 bytes)\n",
            " copying: CV_Project/checkpoint/all_vox256_img_ae_64/all_vox256_img_train_z.hdf5  (34564568 bytes)\n",
            " copying: CV_Project/checkpoint/all_vox256_img_ae_64/checkpoint  (54 bytes)\n",
            " copying: CV_Project/checkpoint/all_vox256_img_ae_64/IM_AE.model16-199.pth  (37135898 bytes)\n",
            " copying: CV_Project/checkpoint/all_vox256_img_ae_64/IM_AE.model32-199.pth  (37157383 bytes)\n",
            " copying: CV_Project/checkpoint/all_vox256_img_ae_64/IM_AE.model64-399.pth  (37149355 bytes)\n",
            " copying: CV_Project/data/  (0 bytes)\n",
            " copying: CV_Project/data/all_vox256_img/  (0 bytes)\n",
            " copying: CV_Project/data/all_vox256_img/all_vox256_img_test.hdf5  (1000827563 bytes)\n",
            " copying: CV_Project/data/all_vox256_img/all_vox256_img_test.txt  (160062 bytes)\n",
            " copying: CV_Project/data/all_vox256_img/all_vox256_img_train.hdf5  (4026162775 bytes)\n",
            " copying: CV_Project/data/all_vox256_img/all_vox256_img_train.txt  (625731 bytes)\n",
            "Central Directory found...\n",
            "Zip64 EOCDR found ( 1 5173785703)...\n",
            "Zip64 EOCDL found ( 1 5173785759)...\n",
            "EOCDR found ( 1 5173785779)...\n",
            "Archive:  CV_Project_copy.zip\n",
            "   creating: CV_Project/checkpoint/\n",
            "   creating: CV_Project/checkpoint/all_vox256_img_ae_64/\n",
            "  inflating: CV_Project/checkpoint/all_vox256_img_ae_64/all_vox256_img_train_z.hdf5  \n",
            " extracting: CV_Project/checkpoint/all_vox256_img_ae_64/checkpoint  \n",
            "  inflating: CV_Project/checkpoint/all_vox256_img_ae_64/IM_AE.model16-199.pth  \n",
            "  inflating: CV_Project/checkpoint/all_vox256_img_ae_64/IM_AE.model32-199.pth  \n",
            "  inflating: CV_Project/checkpoint/all_vox256_img_ae_64/IM_AE.model64-399.pth  \n",
            "   creating: CV_Project/data/\n",
            "   creating: CV_Project/data/all_vox256_img/\n",
            "  inflating: CV_Project/data/all_vox256_img/all_vox256_img_test.hdf5  \n",
            "  inflating: CV_Project/data/all_vox256_img/all_vox256_img_test.txt  \n",
            "  inflating: CV_Project/data/all_vox256_img/all_vox256_img_train.hdf5  \n",
            "  inflating: CV_Project/data/all_vox256_img/all_vox256_img_train.txt  \n"
          ],
          "name": "stdout"
        }
      ]
    },
    {
      "cell_type": "markdown",
      "metadata": {
        "id": "Jb9E0LEUGWFh"
      },
      "source": [
        "### Testing of the Auto Encoder"
      ]
    },
    {
      "cell_type": "code",
      "metadata": {
        "colab": {
          "base_uri": "https://localhost:8080/"
        },
        "id": "jymfXFrplMtL",
        "outputId": "165560c5-34af-4ebd-879d-3830b166c5f5"
      },
      "source": [
        "!cd /content/CV_Project && python3 /content/CV_Project/test.py --sample_dir samples/im_ae_out --start 0 --end 5"
      ],
      "execution_count": 4,
      "outputs": [
        {
          "output_type": "stream",
          "text": [
            "tcmalloc: large alloc 1722679296 bytes == 0x5575a2b4e000 @  0x7fd477fa91e7 0x7fd4752d646e 0x7fd475326c7b 0x7fd475326d97 0x7fd4753bf887 0x557581ff0050 0x5575820e199d 0x557582063fe9 0x55758205eb0e 0x557581ff202c 0x557582032d39 0x55758202fc84 0x557581ff08e9 0x557582064ade 0x55758205eb0e 0x55758205e813 0x557582128592 0x55758212890d 0x5575821287b6 0x557582100103 0x5575820ffdac 0x7fd476d93bf7 0x5575820ffc8a\n",
            "tcmalloc: large alloc 2296905728 bytes == 0x55762b9ce000 @  0x7fd477fa91e7 0x7fd4752d646e 0x7fd475326c7b 0x7fd4752d9ce8 0x55758202fc25 0x557581ff08e9 0x557582064ade 0x557581f30d14 0x7fd465b170a4 0x557581ff1d1d 0x557581ff02ff 0x557582034630 0x55758203455c 0x5575820d7e59 0x55758205ffad 0x55758205eb0e 0x557581ff202c 0x557582032d39 0x55758202fc84 0x557581ff08e9 0x557582064ade 0x55758205eb0e 0x55758205e813 0x557582128592 0x55758212890d 0x5575821287b6 0x557582100103 0x5575820ffdac 0x7fd476d93bf7 0x5575820ffc8a\n",
            " [*] Load SUCCESS\n",
            "[sample]\n",
            "[sample]\n",
            "[sample]\n",
            "[sample]\n",
            "[sample]\n"
          ],
          "name": "stdout"
        }
      ]
    },
    {
      "cell_type": "markdown",
      "metadata": {
        "id": "2LPfUSu3Gdun"
      },
      "source": [
        "### Testing of the GAN"
      ]
    },
    {
      "cell_type": "code",
      "metadata": {
        "colab": {
          "base_uri": "https://localhost:8080/"
        },
        "id": "7ylEm1Gi88jN",
        "outputId": "14b68a05-7626-4d7d-b605-4459a6526e32"
      },
      "source": [
        "!cd /content/CV_Project && python3 /content/CV_Project/test.py --sample_dir samples/gan_out --testz --start 0 --end 5"
      ],
      "execution_count": 5,
      "outputs": [
        {
          "output_type": "stream",
          "text": [
            "tcmalloc: large alloc 1722679296 bytes == 0x55e700110000 @  0x7f65136071e7 0x7f6510af446e 0x7f6510b44c7b 0x7f6510b44d97 0x7f6510bdd887 0x55e6df95e050 0x55e6dfa4f99d 0x55e6df9d1fe9 0x55e6df9ccb0e 0x55e6df96002c 0x55e6df9a0d39 0x55e6df99dc84 0x55e6df95e8e9 0x55e6df9d2ade 0x55e6df9ccb0e 0x55e6df9cc813 0x55e6dfa96592 0x55e6dfa9690d 0x55e6dfa967b6 0x55e6dfa6e103 0x55e6dfa6ddac 0x7f65123f1bf7 0x55e6dfa6dc8a\n",
            "tcmalloc: large alloc 2296905728 bytes == 0x55e788f90000 @  0x7f65136071e7 0x7f6510af446e 0x7f6510b44c7b 0x7f6510af7ce8 0x55e6df99dc25 0x55e6df95e8e9 0x55e6df9d2ade 0x55e6df89ed14 0x7f65011750a4 0x55e6df95fd1d 0x55e6df95e2ff 0x55e6df9a2630 0x55e6df9a255c 0x55e6dfa45e59 0x55e6df9cdfad 0x55e6df9ccb0e 0x55e6df96002c 0x55e6df9a0d39 0x55e6df99dc84 0x55e6df95e8e9 0x55e6df9d2ade 0x55e6df9ccb0e 0x55e6df9cc813 0x55e6dfa96592 0x55e6dfa9690d 0x55e6dfa967b6 0x55e6dfa6e103 0x55e6dfa6ddac 0x7f65123f1bf7 0x55e6dfa6dc8a\n",
            " [*] Load SUCCESS\n",
            "[sample GAN]\n",
            "[sample GAN]\n",
            "[sample GAN]\n",
            "[sample GAN]\n",
            "[sample GAN]\n"
          ],
          "name": "stdout"
        }
      ]
    },
    {
      "cell_type": "code",
      "metadata": {
        "id": "yZJw4UpYDXmj"
      },
      "source": [
        "!zip -r /content/CV_Project/samples/im_ae_out.zip /content/CV_Project/samples/im_ae_out\n",
        "!zip -r /content/CV_Project/samples/gan_out.zip /content/CV_Project/samples/gan_out"
      ],
      "execution_count": null,
      "outputs": []
    },
    {
      "cell_type": "code",
      "metadata": {
        "id": "JimfoxTAIVgt"
      },
      "source": [
        "from google.colab import files\n",
        "files.download(\"/content/CV_Project/samples/im_ae_out.zip\"\n",
        "files.download(\"/content/CV_Project/samples/gan_out.zip\")"
      ],
      "execution_count": null,
      "outputs": []
    }
  ]
}